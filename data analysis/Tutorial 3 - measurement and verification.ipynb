{
 "cells": [
  {
   "cell_type": "markdown",
   "id": "d8659ca6-ed98-480d-a810-53a7e4343771",
   "metadata": {},
   "source": [
    "# Measurement and verification\n",
    "\n",
    "The ability to predict energy demand can be valued in the context of Measurement and Verification (M&V). M&V is the process of assessing savings caused by an Energy Conservation Measure (ECM). Savings are determined by comparing measured consumption or demand before and after implementation of a program, making suitable adjustments for changes in conditions.\n",
    "\n",
    "<img src='images/mv.png' width=600 />\n",
    "\n",
    "An example of adjustment is, when estimating the energy savings delivered by an ECM, to substract its new energy consumption from the consumption that would have occurred if the building had stayed in the same situation in the weather conditions of the reporting period (adjusted baseline consumption). This requires a prediction model that can extrapolate the initial behaviour of the building by accounting for variable weather conditions. Other possible adjustments include changes in occupancy schedules. This is necessary to assess whether measured energy savings are caused by the ECM itself, or by changes in these influences.\n",
    "\n",
    "## Data\n",
    "\n",
    "A commercial building has been monitored for three years. We have measurements of its daily electricity consumption and outdoor temperature.\n",
    "\n",
    "An energy conservation measure has been done after the first year. We want to calculate the energy savings made thanks to this measure.\n",
    "\n",
    "The following blok reads the data for the first year."
   ]
  },
  {
   "cell_type": "code",
   "execution_count": 1,
   "id": "0fe5db96-3f07-446d-b790-8fad017f57d6",
   "metadata": {},
   "outputs": [
    {
     "data": {
      "text/html": [
       "<div>\n",
       "<style scoped>\n",
       "    .dataframe tbody tr th:only-of-type {\n",
       "        vertical-align: middle;\n",
       "    }\n",
       "\n",
       "    .dataframe tbody tr th {\n",
       "        vertical-align: top;\n",
       "    }\n",
       "\n",
       "    .dataframe thead th {\n",
       "        text-align: right;\n",
       "    }\n",
       "</style>\n",
       "<table border=\"1\" class=\"dataframe\">\n",
       "  <thead>\n",
       "    <tr style=\"text-align: right;\">\n",
       "      <th></th>\n",
       "      <th>date</th>\n",
       "      <th>Temperature</th>\n",
       "      <th>Power kW</th>\n",
       "      <th>dayofweek</th>\n",
       "    </tr>\n",
       "    <tr>\n",
       "      <th>date</th>\n",
       "      <th></th>\n",
       "      <th></th>\n",
       "      <th></th>\n",
       "      <th></th>\n",
       "    </tr>\n",
       "  </thead>\n",
       "  <tbody>\n",
       "    <tr>\n",
       "      <th>2009-01-02</th>\n",
       "      <td>2009-01-02</td>\n",
       "      <td>0.942130</td>\n",
       "      <td>865.3</td>\n",
       "      <td>4</td>\n",
       "    </tr>\n",
       "    <tr>\n",
       "      <th>2009-01-05</th>\n",
       "      <td>2009-01-05</td>\n",
       "      <td>12.231481</td>\n",
       "      <td>821.4</td>\n",
       "      <td>0</td>\n",
       "    </tr>\n",
       "    <tr>\n",
       "      <th>2009-01-06</th>\n",
       "      <td>2009-01-06</td>\n",
       "      <td>24.275463</td>\n",
       "      <td>1090.2</td>\n",
       "      <td>1</td>\n",
       "    </tr>\n",
       "    <tr>\n",
       "      <th>2009-01-07</th>\n",
       "      <td>2009-01-07</td>\n",
       "      <td>23.053241</td>\n",
       "      <td>1068.4</td>\n",
       "      <td>2</td>\n",
       "    </tr>\n",
       "    <tr>\n",
       "      <th>2009-01-08</th>\n",
       "      <td>2009-01-08</td>\n",
       "      <td>30.738426</td>\n",
       "      <td>728.5</td>\n",
       "      <td>3</td>\n",
       "    </tr>\n",
       "  </tbody>\n",
       "</table>\n",
       "</div>"
      ],
      "text/plain": [
       "                 date  Temperature  Power kW  dayofweek\n",
       "date                                                   \n",
       "2009-01-02 2009-01-02     0.942130     865.3          4\n",
       "2009-01-05 2009-01-05    12.231481     821.4          0\n",
       "2009-01-06 2009-01-06    24.275463    1090.2          1\n",
       "2009-01-07 2009-01-07    23.053241    1068.4          2\n",
       "2009-01-08 2009-01-08    30.738426     728.5          3"
      ]
     },
     "execution_count": 1,
     "metadata": {},
     "output_type": "execute_result"
    }
   ],
   "source": [
    "import pandas as pd\n",
    "import numpy as np\n",
    "import matplotlib.pyplot as plt\n",
    "\n",
    "from scipy.optimize import curve_fit\n",
    "\n",
    "# Importing data into a dataframe with the pandas library\n",
    "df = pd.read_excel('data/building6.xlsx')\n",
    "df.set_index(pd.to_datetime(df['date']), inplace=True)\n",
    "# Filtering out weekends\n",
    "df = df[df['dayofweek'] < 5]\n",
    "# This line shows the first few lines of the dataset\n",
    "df.head()"
   ]
  },
  {
   "cell_type": "code",
   "execution_count": 2,
   "id": "616f6c48-1f6c-4e1a-bc92-f8cf0f983090",
   "metadata": {},
   "outputs": [
    {
     "data": {
      "text/plain": [
       "<AxesSubplot:xlabel='Temperature', ylabel='Power kW'>"
      ]
     },
     "execution_count": 2,
     "metadata": {},
     "output_type": "execute_result"
    },
    {
     "data": {
      "image/png": "[encoded data removed]",
      "text/plain": [
       "<Figure size 720x432 with 1 Axes>"
      ]
     },
     "metadata": {
      "needs_background": "light"
     },
     "output_type": "display_data"
    }
   ],
   "source": [
    "df.plot.scatter(x = 'Temperature',\n",
    "                y = 'Power kW',\n",
    "                figsize = [10, 6])"
   ]
  },
  {
   "cell_type": "markdown",
   "id": "f14ff624-47de-48e9-a22a-53acdb8cc28a",
   "metadata": {},
   "source": [
    "## Fitting a baseline model\n",
    "\n",
    "After looking at the data, we can suggest using a change-point model which will include the effects of heating and cooling, and separate week ends from working days. The expected daily energy use $E$ (in kWh per day) is a function of the outdoor temperature $T$ and of a number of parameters:\n",
    "\n",
    "$$E(T) = \\alpha + \\beta_{h}(\\tau_{h}-T)^+ + \\beta_{c}(T-\\tau_{c})^+ + \\varepsilon$$\n",
    "\n",
    "We define this model as a Python function which takes the temperature $T$ as input and 5 parameters $(\\alpha, \\beta_h, \\beta_c, \\tau_h, \\tau_c)$."
   ]
  },
  {
   "cell_type": "code",
   "execution_count": 3,
   "id": "ef1eaec9-2197-4652-84c0-643c531a38f1",
   "metadata": {},
   "outputs": [],
   "source": [
    "def signature(T, alpha, beta_h, beta_c, tau_h, tau_c):\n",
    "    E = alpha * np.ones_like(T)\n",
    "\n",
    "    mask1 = T < tau_h\n",
    "    E[mask1] += beta_h * (tau_h-T[mask1])\n",
    "\n",
    "    mask2 = T > tau_c\n",
    "    E[mask2] += beta_c * (T[mask2]-tau_c)\n",
    "\n",
    "    return E"
   ]
  },
  {
   "cell_type": "markdown",
   "id": "31f6c010-9679-4fed-9eed-01dd8eb8e868",
   "metadata": {},
   "source": [
    "Next we use the curve fitting function to find the parameters with which the model best matches the data."
   ]
  },
  {
   "cell_type": "code",
   "execution_count": 4,
   "id": "83b57feb-1a1b-4e9d-b909-af1eb26babfc",
   "metadata": {},
   "outputs": [
    {
     "name": "stdout",
     "output_type": "stream",
     "text": [
      "               avg        std\n",
      "alpha   783.844583  19.765942\n",
      "beta_h   32.023805   3.777809\n",
      "beta_c   23.307880   3.743958\n",
      "tau_h     7.506575   1.082617\n",
      "tau_c    14.000506   1.641179\n"
     ]
    }
   ],
   "source": [
    "popt, pcov = curve_fit(signature,\n",
    "                       xdata = df['Temperature'],\n",
    "                       ydata = df['Power kW'],\n",
    "                       p0 = [800, 60, 60, 5, 15])\n",
    "\n",
    "# Saving results into a dataframe and displaying it\n",
    "res1 = pd.DataFrame(index=['alpha', 'beta_h', 'beta_c', 'tau_h', 'tau_c'])\n",
    "res1['avg'] = popt\n",
    "res1['std'] = np.diag(pcov)**0.5\n",
    "print(res1)"
   ]
  },
  {
   "cell_type": "markdown",
   "id": "d356b12d-948d-44e3-b19b-d1ee4e20909b",
   "metadata": {},
   "source": [
    "Prediction of the energy consumption by the model and comparison with the data"
   ]
  },
  {
   "cell_type": "code",
   "execution_count": 5,
   "id": "d501591d-1147-42ad-b7bd-2e65a903ef29",
   "metadata": {},
   "outputs": [
    {
     "data": {
      "text/plain": [
       "<matplotlib.collections.PathCollection at 0x1eb2dae0bb0>"
      ]
     },
     "execution_count": 5,
     "metadata": {},
     "output_type": "execute_result"
    },
    {
     "data": {
      "image/png": "[encoded data removed]",
      "text/plain": [
       "<Figure size 720x432 with 1 Axes>"
      ]
     },
     "metadata": {
      "needs_background": "light"
     },
     "output_type": "display_data"
    }
   ],
   "source": [
    "E_pred = signature(df['Temperature'], *popt)\n",
    "\n",
    "fig, ax = plt.subplots(figsize = (10,6))\n",
    "ax.scatter(df['Temperature'], df['Power kW'])\n",
    "ax.scatter(df['Temperature'], E_pred)"
   ]
  },
  {
   "cell_type": "markdown",
   "id": "029a8f3c-117a-4883-9fde-376926a4b417",
   "metadata": {},
   "source": [
    "Comparison of the total energy consumption: measured vs. predicted by the model"
   ]
  },
  {
   "cell_type": "code",
   "execution_count": 12,
   "id": "dd8ce719-f37a-4704-be3a-d91a768caaed",
   "metadata": {},
   "outputs": [
    {
     "name": "stdout",
     "output_type": "stream",
     "text": [
      "Measured (kWh):  242259.53043478224\n",
      "Predicted (kWh):  242259.53043385647\n"
     ]
    }
   ],
   "source": [
    "print(\"Measured (kWh): \", np.sum(df['Power kW']))\n",
    "print(\"Predicted (kWh): \", np.sum(E_pred))"
   ]
  },
  {
   "cell_type": "markdown",
   "id": "10fde2d4-a6dd-4ee1-8a8a-3b1067ceb42d",
   "metadata": {},
   "source": [
    "## Comparison with the consumption after the energy conservation measure\n",
    "\n",
    "We can now load the measured energy of the second and third years into new dataframes."
   ]
  },
  {
   "cell_type": "code",
   "execution_count": 6,
   "id": "67e5da7b-bbbd-4c60-949a-550dbc2c485a",
   "metadata": {},
   "outputs": [],
   "source": [
    "# Data of the second year\n",
    "df2 = pd.read_excel('data/building6.xlsx', sheet_name='During')\n",
    "df2.set_index(pd.to_datetime(df2['date']), inplace=True)\n",
    "df2 = df2[df2['dayofweek'] < 5]\n",
    "\n",
    "# Data of the third year\n",
    "df3 = pd.read_excel('data/building6.xlsx', sheet_name='Post')\n",
    "df3.set_index(pd.to_datetime(df3['date']), inplace=True)\n",
    "df3 = df3[df3['dayofweek'] < 5]"
   ]
  },
  {
   "cell_type": "markdown",
   "id": "965bbd15-a7a2-4cf8-a188-75a79be90887",
   "metadata": {},
   "source": [
    "Question: calculate the energy savings due to the energy conservation measure performed after year 1, by comparing model predictions with measurements."
   ]
  },
  {
   "cell_type": "code",
   "execution_count": null,
   "id": "d3512e21-aedb-461a-afe8-b98c67f655a0",
   "metadata": {},
   "outputs": [],
   "source": []
  },
  {
   "cell_type": "code",
   "execution_count": null,
   "id": "1ea08bc9-93c6-4071-9691-3127956bd115",
   "metadata": {},
   "outputs": [],
   "source": []
  }
 ],
 "metadata": {
  "kernelspec": {
   "display_name": "Python 3 (ipykernel)",
   "language": "python",
   "name": "python3"
  },
  "language_info": {
   "codemirror_mode": {
    "name": "ipython",
    "version": 3
   },
   "file_extension": ".py",
   "mimetype": "text/x-python",
   "name": "python",
   "nbconvert_exporter": "python",
   "pygments_lexer": "ipython3",
   "version": "3.9.7"
  }
 },
 "nbformat": 4,
 "nbformat_minor": 5
}
