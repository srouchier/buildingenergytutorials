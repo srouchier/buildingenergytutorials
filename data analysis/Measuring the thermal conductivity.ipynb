{
 "cells": [
  {
   "cell_type": "markdown",
   "metadata": {},
   "source": [
    "## Background\n",
    "\n",
    "The thermal conductivity of a material can be measured by applying a heat source on its surface and measuring the evolution of the temperature, either inside a material sample or at its side. Processing the measurements of heat flow and temperature allow estimating the value of the thermal conductivity.\n",
    "\n",
    "<img src='images/IHCP.png' width=240 />\n",
    "\n",
    "In this exercise, the problem is one-dimensional heat conduction inside a wall of thermal conductivity $k$. One boundary is subjected to a heat flow $u$ while the other boundary is either insulated ($h=0$) or open ($h>0$). A temperature sensor is placed at a certain location $x_s$ within the medium. The initial temperature is uniform $T_0 = 0^{\\circ}C$.\n",
    "\n",
    "The graph below shows a typical heat flow (on the right) that can be applied to a wall, and the temperature that can be measured as a consequence of this input, on three separate locations within the wall (on the left). In this case, the wall is insulated ($h=0$).\n",
    "\n",
    "<img src='images/input_output.png' width=800 />\n",
    "\n",
    "The data for the exercise is available in the file `conductivity_data.txt`.\n",
    "\n",
    "## Modelling and discretisation\n",
    "\n",
    "The physical model is the 1D heat conduction equation in a finite medium of heat capacity $\\rho c_p$ and conductivity $\\lambda$:\n",
    "\n",
    "\\begin{align}\n",
    "\\rho c_p \\frac{\\partial T}{\\partial t} = \\lambda \\frac{ \\partial^2 T}{\\partial x^2}\n",
    "\\end{align}\n",
    "\n",
    "Assorted with the following boundary conditions: a prescribed heat flow $u(t)$ on the left boundary and a type-3 condition ($h$, $T_\\infty$) on the right boundary\n",
    "\n",
    "\\begin{align}\n",
    "-\\lambda \\dfrac{\\partial T}{\\partial x} & = u\\left(t\\right) & \\quad \\mathrm{if} \\quad x = 0 \\\\\n",
    "-\\lambda \\dfrac{\\partial T}{\\partial x} & = h \\left(T-T_\\infty\\right) & \\quad \\mathrm{if} \\quad x = e\n",
    "\\end{align}\n",
    "\n",
    "In order to solve the conservation equation by the finite difference method, the medium can be discretised into $N$ nodes, equally spaced with a distance $\\Delta x$. The temperature at each node may be assembled into a sequence:\n",
    "$ \\mathbf{T} = \\left[T_1(t) \\; T_2(t) \\; ... \\; T_N(t) \\right] $. The time is also discretised: $t \\in \\{t_0, t_1... t_k, t_{k+1}... t_K\\}$. The size of the entire temperature matrix of the problem is then [$K \\times N$].\n",
    "\n",
    "### Problem\n",
    "\n",
    "Use the data given in `conductivity_data.txt` and the heat transfer equations above, to estimate the heat conductivity $\\lambda$ and the volumetric heat capacity $\\rho c_p$ of the wall.\n",
    "\n",
    "The wall thickness is 5 cm\n",
    "\n",
    "The heat transfer coefficient on the right side is 0"
   ]
  },
  {
   "cell_type": "code",
   "execution_count": null,
   "metadata": {},
   "outputs": [],
   "source": []
  }
 ],
 "metadata": {
  "kernelspec": {
   "display_name": "Python 3",
   "language": "python",
   "name": "python3"
  },
  "language_info": {
   "codemirror_mode": {
    "name": "ipython",
    "version": 3
   },
   "file_extension": ".py",
   "mimetype": "text/x-python",
   "name": "python",
   "nbconvert_exporter": "python",
   "pygments_lexer": "ipython3",
   "version": "3.5.6"
  }
 },
 "nbformat": 4,
 "nbformat_minor": 1
}
