{
 "cells": [
  {
   "cell_type": "markdown",
   "metadata": {},
   "source": [
    "This notebook follows the notebook on the estimation of the Heat Loss Coefficient by linear regression.\n",
    "\n",
    "## Energy signature method\n",
    "\n",
    "The energy signature method relates the energy use of a dwelling to the environmental parameters,\n",
    "typically the outdoor temperatures. This method can be considered as a special case of linear\n",
    "regression analysis.\n",
    "\n",
    "The indoor temperature is assumed to be quasi-constant, so that heating only is needed when the\n",
    "outdoor temperature $T_e$ is lower than this base temperature $T_b$. The thermal power for heating the building\n",
    "is then:\n",
    "\n",
    "$$ \\Phi_h = H (T_b-T_e) \\quad \\mathrm{if} \\quad T_e < T_b $$\n",
    "$$ \\Phi_h = 0 \\quad \\mathrm{if} \\quad T_e \\geq T_b $$\n",
    "\n",
    "<img src='images/energy_signature.png' width=250 />\n",
    "\n",
    "\n",
    "\n",
    "In the energy signature method, the solar aperture is supposed known. We estimate $H$ along with the base temperature $T_b$. The first thing to do is define a function that outputs heating power as a function of outdoor temperature, HLC and $T_b$. This is more complicated than linear regression since there is no linear relationship between $\\Phi_h$ and the base temperature $T_b$.\n",
    "\n",
    "## Case study\n",
    "\n",
    "We are considering data from 2 commercial buildings recorded during 3 years, from 2010 to 2012. The data is: outdoor temperature and total electrical power, averaged over periods of 3 days. Here is a sample of the data:"
   ]
  },
  {
   "cell_type": "code",
   "execution_count": 1,
   "metadata": {},
   "outputs": [
    {
     "data": {
      "text/html": [
       "<div>\n",
       "<style scoped>\n",
       "    .dataframe tbody tr th:only-of-type {\n",
       "        vertical-align: middle;\n",
       "    }\n",
       "\n",
       "    .dataframe tbody tr th {\n",
       "        vertical-align: top;\n",
       "    }\n",
       "\n",
       "    .dataframe thead th {\n",
       "        text-align: right;\n",
       "    }\n",
       "</style>\n",
       "<table border=\"1\" class=\"dataframe\">\n",
       "  <thead>\n",
       "    <tr style=\"text-align: right;\">\n",
       "      <th></th>\n",
       "      <th>Date</th>\n",
       "      <th>T (C)</th>\n",
       "      <th>Power (kW)</th>\n",
       "    </tr>\n",
       "  </thead>\n",
       "  <tbody>\n",
       "    <tr>\n",
       "      <th>0</th>\n",
       "      <td>2010-01-01</td>\n",
       "      <td>2.940738</td>\n",
       "      <td>26.741667</td>\n",
       "    </tr>\n",
       "    <tr>\n",
       "      <th>1</th>\n",
       "      <td>2010-01-04</td>\n",
       "      <td>1.987936</td>\n",
       "      <td>43.530556</td>\n",
       "    </tr>\n",
       "    <tr>\n",
       "      <th>2</th>\n",
       "      <td>2010-01-07</td>\n",
       "      <td>-0.052153</td>\n",
       "      <td>41.293056</td>\n",
       "    </tr>\n",
       "    <tr>\n",
       "      <th>3</th>\n",
       "      <td>2010-01-10</td>\n",
       "      <td>2.491137</td>\n",
       "      <td>36.495833</td>\n",
       "    </tr>\n",
       "    <tr>\n",
       "      <th>4</th>\n",
       "      <td>2010-01-13</td>\n",
       "      <td>7.117001</td>\n",
       "      <td>35.536111</td>\n",
       "    </tr>\n",
       "  </tbody>\n",
       "</table>\n",
       "</div>"
      ],
      "text/plain": [
       "         Date     T (C)  Power (kW)\n",
       "0  2010-01-01  2.940738   26.741667\n",
       "1  2010-01-04  1.987936   43.530556\n",
       "2  2010-01-07 -0.052153   41.293056\n",
       "3  2010-01-10  2.491137   36.495833\n",
       "4  2010-01-13  7.117001   35.536111"
      ]
     },
     "execution_count": 1,
     "metadata": {},
     "output_type": "execute_result"
    }
   ],
   "source": [
    "import pandas as pd\n",
    "import numpy as np\n",
    "import matplotlib.pyplot as plt\n",
    "\n",
    "%matplotlib inline\n",
    "\n",
    "data_ = pd.read_excel('data/energy_signature.xlsx',\n",
    "                      sheet_name = \"Building 1 - 2010\",\n",
    "                      encoding=\"ISO-8859-1\")\n",
    "\n",
    "data_.head()"
   ]
  },
  {
   "cell_type": "markdown",
   "metadata": {},
   "source": [
    "In our case, the recorded power is the total electricity consumption of each building rather than heating power only. We assume that this consumption is the sum of the heating power $\\Phi_h$ and a constant base consumption $\\alpha$:\n",
    "\n",
    "$$ \\Phi = \\Phi_h + \\alpha$$\n",
    "\n",
    "We have also modified the energy signature model shown above, to account for an increased electricity consumption in summer due to air conditioning. Below is the function that evaluates $\\Phi$ if the parameters of the ES model are known."
   ]
  },
  {
   "cell_type": "code",
   "execution_count": 3,
   "metadata": {},
   "outputs": [],
   "source": [
    "T = data_['T (C)']\n",
    "P = data_['Power (kW)']\n",
    "\n",
    "# Definition of the evaluation function, which returns the electrical power as a function of the outdoor temperature\n",
    "def signature(T, alpha, beta1, beta2, tau1, tau2):\n",
    "    Phi = alpha * np.ones_like(T)\n",
    "\n",
    "    mask1 = T < tau1\n",
    "    Phi[mask1] += beta1 * (tau1-T[mask1])\n",
    "\n",
    "    mask2 = T > tau2\n",
    "    Phi[mask2] += beta2 * (T[mask2]-tau2)\n",
    "\n",
    "    return Phi"
   ]
  },
  {
   "cell_type": "markdown",
   "metadata": {},
   "source": [
    "Now that this evaluation function is defined, we can use it in a curve fitting algorithm which will find the optimal parameters to match a given dataset. These parameters are saved in the `popt` object below."
   ]
  },
  {
   "cell_type": "code",
   "execution_count": 4,
   "metadata": {},
   "outputs": [
    {
     "data": {
      "image/png": "[encoded data removed]",
      "text/plain": [
       "<Figure size 432x288 with 1 Axes>"
      ]
     },
     "metadata": {
      "needs_background": "light"
     },
     "output_type": "display_data"
    }
   ],
   "source": [
    "from scipy.optimize import curve_fit\n",
    "\n",
    "theta_init = [20, 1.5, 1.5, 10, 20]\n",
    "popt, pcov = curve_fit(signature,\n",
    "                       xdata = data_['T (C)'],\n",
    "                       ydata = data_['Power (kW)'],\n",
    "                       p0 = theta_init)\n",
    "\n",
    "P_opt = signature(T, popt[0], popt[1], popt[2], popt[3], popt[4])\n",
    "\n",
    "plt.figure()\n",
    "plt.scatter(T, P)\n",
    "plt.scatter(T, P_opt)\n",
    "plt.show()"
   ]
  },
  {
   "cell_type": "markdown",
   "metadata": {},
   "source": [
    "The next block compares the real and computed electricity consumption, as a way to validate the model"
   ]
  },
  {
   "cell_type": "code",
   "execution_count": null,
   "metadata": {},
   "outputs": [],
   "source": [
    "consumption_real = P.sum()*24*3\n",
    "consumption_calc = P_opt.sum()*24*3\n",
    "\n",
    "print('Real electricity consumption over 1 year of measurements: %.2f kWh' % consumption_real)\n",
    "print('Computed consumption: %.2f kWh' % consumption_calc)"
   ]
  },
  {
   "cell_type": "markdown",
   "metadata": {},
   "source": [
    "## Exercise\n",
    "\n",
    "- Fit an energy signature model on all 6 datasets available and find the values of HLC and base temperature for the buildings\n",
    "- Use a model fitted in 2010 or 2011 to predict the energy consumption of 2012."
   ]
  },
  {
   "cell_type": "code",
   "execution_count": null,
   "metadata": {},
   "outputs": [],
   "source": []
  }
 ],
 "metadata": {
  "kernelspec": {
   "display_name": "Python 3 (ipykernel)",
   "language": "python",
   "name": "python3"
  },
  "language_info": {
   "codemirror_mode": {
    "name": "ipython",
    "version": 3
   },
   "file_extension": ".py",
   "mimetype": "text/x-python",
   "name": "python",
   "nbconvert_exporter": "python",
   "pygments_lexer": "ipython3",
   "version": "3.9.7"
  }
 },
 "nbformat": 4,
 "nbformat_minor": 4
}
