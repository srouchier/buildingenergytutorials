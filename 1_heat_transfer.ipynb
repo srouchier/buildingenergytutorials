{
 "cells": [
  {
   "cell_type": "code",
   "execution_count": 1,
   "id": "8fd534ff",
   "metadata": {
    "tags": []
   },
   "outputs": [],
   "source": [
    "# Run this block first\n",
    "import numpy as np\n",
    "import pandas as pd\n",
    "import matplotlib.pyplot as plt"
   ]
  },
  {
   "cell_type": "markdown",
   "id": "d6a8e413",
   "metadata": {},
   "source": [
    "# Heat transfer\n",
    "\n",
    "## Exercise 1: single room heat balance\n",
    "\n",
    "The walls of a room are made of:\n",
    "* 44 m$^2$ of concrete wall ($e_c=15$ cm, $\\lambda_c=2,3$ W/(m.K)) with an insulation layer ($e_{i}=10$ cm, $\\lambda_{i}=0.04$ W/(m.K))\n",
    "* 8 m$^2$ of double glazing ($U_v=3.3$ W/(m$^2$.K))\n",
    "* The indoor heat transfer coefficient is $h_i = 0.11$ (m$^2$.K)/W, the outdoor one is $h_e = 0.07$ (m$^2$.K)/W\n",
    "\n",
    "The room is ventilated with an air change rate of 9 m$^3$/h.\n",
    "\n",
    "Calculate the heating power that should be prescribed to maintain an indoor temperature of 19°C, if the outdoor temperature is 2°C.\n",
    "\n",
    "### Solution"
   ]
  },
  {
   "cell_type": "code",
   "execution_count": 2,
   "id": "0baf3164",
   "metadata": {},
   "outputs": [
    {
     "name": "stdout",
     "output_type": "stream",
     "text": [
      "Heating power:  2544.722608695652\n"
     ]
    }
   ],
   "source": [
    "# Concrete wall\n",
    "e_c = 0.15\n",
    "e_i = 0.10\n",
    "lambda_c = 2.3\n",
    "lambda_i = 0.04\n",
    "A_wall = 44\n",
    "\n",
    "# Glazing\n",
    "U_v = 3.3\n",
    "A_v = 8\n",
    "\n",
    "# Surface heat transfer coefficients\n",
    "Ri = 0.11\n",
    "Re = 0.07\n",
    "\n",
    "# Ventilation rate (m3/h)\n",
    "ventilation = 9\n",
    "\n",
    "# Temperatures\n",
    "ti = 19\n",
    "te = 2\n",
    "\n",
    "# Heat transfer coefficients\n",
    "D_wall = ( Ri + Re + e_c/lambda_c + e_i/lambda_i ) * A_wall\n",
    "D_window = U_v * A_v\n",
    "D_ventilation = ventilation * 1000/3600\n",
    "\n",
    "# Total heat loss coefficient and heating power\n",
    "D_global = D_wall + D_window + D_ventilation\n",
    "P_heating = D_global * (ti-te)\n",
    "\n",
    "# In order to display the value of a variable:\n",
    "print(\"Heating power: \", P_heating)"
   ]
  },
  {
   "cell_type": "markdown",
   "id": "17dc13cb",
   "metadata": {},
   "source": [
    "## Exercise 2: heat balance of two rooms\n",
    "\n",
    "<img src=\"figures/heat_ex2.png\" alt=\"ex2\" width=\"500\"/>\n",
    "\n",
    "1. Write one energy balance equation for each room.\n",
    "2. If the outdoor temperature is 9°C and the heating power is 1000 W, solve the system for the temperatures of room 1 and 2\n",
    "3. If the outdoor temperature is 9°C and the temperature of room 1 is 19°C, solve the system for the heating power of room 1 and the temperature of room 2.\n",
    "\n",
    "### Solution\n",
    "\n",
    "The energy balance of each room is written here in the direction ''the sum of all heat leaving the room equals zero'':\n",
    "\n",
    "$$ (A_{wall1} U_{wall}+A_{win}U_{win}) (T_1 - T_e) + A_p U_p (T_1 - T_2) + \\dot{m} c_p (T_1 - T_e) = \\Phi$$\n",
    "\n",
    "$$ A_p U_p (T_2 - T_1) + \\dot{m} c_p (T_2 - T_1) + A_{wall2} U_{wall} (T_2 - T_e) = 0$$\n",
    "\n",
    "This system can be written in matrix form and solved by linear algebra.\n",
    "\n",
    "\\begin{equation}\n",
    "\\begin{pmatrix} A_{wall1} U_{wall}+A_{win}U_{win} + A_p U_p + \\dot{m} c_p & -A_p U_p \\\\ - A_p U_p -\\dot{m} c_p & A_{wall2} U_{wall} + A_p U_p + \\dot{m} c_p \\end{pmatrix} \\begin{pmatrix} T_1 \\\\ T_2 \\end{pmatrix} = \\begin{pmatrix} \\left(A_{wall1} U_{wall}+A_{win}U_{win} + \\dot{m} c_p\\right)T_e \\\\ A_{wall2} U_{wall} T_e\\end{pmatrix}\n",
    "\\end{equation}"
   ]
  },
  {
   "cell_type": "code",
   "execution_count": 12,
   "id": "130b75c6",
   "metadata": {},
   "outputs": [
    {
     "name": "stdout",
     "output_type": "stream",
     "text": [
      "Temperatures:  [21.04595298 16.07752819]\n"
     ]
    }
   ],
   "source": [
    "# External wall\n",
    "Awall1 = 31.2\n",
    "Awall2 = 15.6\n",
    "Uwall = 0.45\n",
    "# Window\n",
    "Awin = 2\n",
    "Uwin = 2.9\n",
    "# Partition wall\n",
    "Ap = 12\n",
    "Up = 0.7  # use this value instead of 11\n",
    "# Ventilation rate\n",
    "rho = 1.2\n",
    "mdot = 0.1 * 48 * rho / 3600 # kg/s # air change rate of 0.1 vol/h instead of 1\n",
    "cp = 1000\n",
    "\n",
    "Te = 9\n",
    "Phi = 300\n",
    "\n",
    "# Defining the matrices of the linear system\n",
    "# An \"array\", defined as follows, can be a vector or a matrix\n",
    "A = np.array([[Awall1*Uwall + Awin*Uwin + Ap*Up + mdot*cp, -Ap*Up],\n",
    "              [-Ap*Up-mdot*cp, Awall2*Uwall + Ap*Up + mdot*cp]])\n",
    "b = np.array([Te*(Awall1*Uwall+Awin*Uwin+mdot*cp)+Phi, Awall2*Uwall*Te])\n",
    "\n",
    "y = np.linalg.solve(A,b)\n",
    "\n",
    "print(\"Temperatures: \", y)"
   ]
  },
  {
   "cell_type": "markdown",
   "id": "d01cf1eb",
   "metadata": {},
   "source": [
    "## Exercise 3: greenhouse\n",
    "\n",
    "<img src=\"figures/heat_ex3.png\" alt=\"ex3\" width=\"250\"/>\n",
    "\n",
    "A greenhouse is represented by a half-sphere. We are supposing the following hypotheses:\n",
    "* The greenhouse has a diameter of 6 m.\n",
    "* The outdoor temperature $T_e$ is 24°C and the horizontal solar irradiance $E_\\mathit{sol}$ is 400 W/m$^2$.\n",
    "* The glass cover has a temperature $T_c$. It has a transmission coefficient of $\\tau_d = 0.8$ for the sunlight, and an emissivity of $\\varepsilon=0.95$ for the infrared radiation. The thermal resistance of the glass is very low and can be neglected.\n",
    "* The convective surface transfer coefficients are: $h_{g}=2.6$ W/(m$^2$.K) between the ground and the indoor air; $h_{ci}=6.1$ W/(m$^2$.K) between the cover and the indoor air; $h_{ce}=16$ W/(m$^2$.K) between the cover and the outside.\n",
    "* The ground has an emissivity of 0.9. It is considered adiabatic: there is no heat loss towards the ground.\n",
    "\n",
    "### Questions:\n",
    "1. Calculate the view factor $F_{cg}$ between the glass cover and the ground. Using the simplified formulas from the lecture, write the expression of the radiant heat transfer coefficient $h_r$ between the cover and the ground."
   ]
  },
  {
   "cell_type": "code",
   "execution_count": 15,
   "id": "005d0219",
   "metadata": {},
   "outputs": [],
   "source": [
    "# Weather data\n",
    "Te = 273 + 35\n",
    "E = 400\n",
    "\n",
    "# Optical data\n",
    "tau = 0.8\n",
    "eps = 0.95\n",
    "sigma = 5.67e-8\n",
    "\n",
    "# Areas and view factors\n",
    "r = 3                  # radius of the greenhouse\n",
    "Ag = np.pi * r**2      # ground area\n",
    "Ac = 2 * np.pi * r**2  # cover area\n",
    "Fgc = 1                # view factor from ground to cover\n",
    "Phi_g = Ag * E*tau*eps   # solar heat received by the ground\n",
    "\n",
    "# Convection transfer coefficients\n",
    "hg = 2.6\n",
    "hci = 6.1\n",
    "hce = 16\n",
    "\n",
    "# initialisation: we need to assume the values of Tc and Tg to estimate the radiation transfer coefficient\n",
    "Tc0 = 273 + 50\n",
    "Tg0 = 273 + 60\n",
    "hr = eps * Fgc * sigma * (Tc0**2+Tg0**2) * (Tc0+Tg0)"
   ]
  },
  {
   "cell_type": "markdown",
   "id": "72a89f94",
   "metadata": {},
   "source": [
    "2. Draw the diagram of thermal resistances between each temperature point: $T_e$, $T_c$, $T_i$ and $T_g$.\n",
    "3. Write the system of 3 equations for the unknown variables: $T_i$, $T_g$ and $T_c$.\n",
    "4. Solve the system to calculate the three temperatures. You may need to assume the value of $h_r$.\n",
    "\n",
    "The balance equations for each of the three unknown temperatures (indoor, ground and cover) read:\n",
    "\n",
    "\\begin{align}\n",
    "A_c h_{ci}(T_i-T_c) + A_g h_{g}(T_i-T_g) & = 0 \\\\\n",
    "A_g h_{g} (T_g-T_i) + A_g h_r (T_g-T_c) & = \\Phi_g \\\\\n",
    "A_c h_{ci}(T_c-T_i) + A_g h_r (T_c-T_g) + A_c h_{ce} (T_c-T_e) & = 0\n",
    "\\end{align}\n",
    "\n",
    "This system can be written in matrix form:\n",
    "\\begin{equation}\n",
    "\\begin{pmatrix}A_c h_{ci}+A_g h_{g} & - A_g h_{g} & -A_c h_{ci} \\\\ -A_g h_{cg} & A_g h_{cg}+A_g h_r & - A_g h_r \\\\ -A_c h_{ci} & -A_g h_r & A_c h_{ci}+A_g h_r+A_c h_{ce}  \\end{pmatrix} \\begin{pmatrix} T_i \\\\ T_g \\\\ T_c \\end{pmatrix} = \\begin{pmatrix} 0 \\\\ \\Phi_g \\\\ A_c h_{ce} T_e \\end{pmatrix}\n",
    "\\end{equation}"
   ]
  },
  {
   "cell_type": "code",
   "execution_count": 17,
   "id": "0e949f3c",
   "metadata": {},
   "outputs": [
    {
     "name": "stdout",
     "output_type": "stream",
     "text": [
      "Temperatures (indoor, ground and cover):  [49.82856422 75.53567324 44.35      ]\n"
     ]
    }
   ],
   "source": [
    "A = np.array([[hg*Ag + hci*Ac, -hg*Ag, -hci*Ac],\n",
    "              [-hg*Ag, hg*Ag+hr*Ag, -hr*Ag],\n",
    "              [-hci*Ac, -hr*Ag, hce*Ac+hci*Ac+hr*Ag]])\n",
    "b = np.array([0,\n",
    "              Phi_g,\n",
    "              hce*Ac*Te])\n",
    "\n",
    "T = np.linalg.solve(A, b)\n",
    "\n",
    "print(\"Temperatures (indoor, ground and cover): \", T-273.15)"
   ]
  },
  {
   "cell_type": "markdown",
   "id": "979776e0",
   "metadata": {},
   "source": [
    "## Exercise 4: radiator\n",
    "\n",
    "<img src=\"figures/heat_ex4.png\" alt=\"ex3\" width=\"250\"/>\n",
    "\n",
    "Consider the room shown above:\n",
    "* The wall $S_5$ (on the left) is a window with a temperature of $T_5 = 8$°C.\n",
    "* The surface $S_0$ is a radiator covering half the height of the wall on the right. Its temperature is $T_0 = 60$°C.\n",
    "* The surface $S_2$ (the ground) is adiabatic.\n",
    "* All other surfaces have a temperature of $T = 20$°C.\n",
    "\n",
    "Calculate the radiative heat loss through the window, the net heat flux given by the radiator and the temperature of the ground. The emission coefficient of all surfaces is $\\varepsilon=0.85$ and the reflexion is $\\rho=1-\\varepsilon$.\n",
    "\n",
    "Calculate an approximation of the mean radiant temperature and the operative temperature in the middle of the room.\n",
    "\n",
    "We suppose that the following view factors are known:\n",
    "\n",
    "$$ F_{25}=0.1174 \\: ; \\: F_{20}=0.081 \\: ; \\: F_{50}= 0.0477$$\n",
    "\n",
    "### Solution\n",
    "\n",
    "All the walls that have a temperature of $T = 20°C$ can be considered as a single surface labelled ''3''. The question is therefore equivalent to heat exchange balance between 4 surfaces: we need to write 4 equations.\n",
    "\n",
    "First, the view factors are required. Starting from the ones already given, all other view factors can be calculated from the simple formulas: $S_iF_{ij}=S_jF_{ji}$ and $\\sum_j F_{ij}=1$.\n",
    "\n",
    "We then need to write one equation for each surface. Surface 0 (the radiator) has a known temperature, which means:\n",
    "\n",
    "$$J_0 =\\varepsilon_0 \\sigma T_0^4 + \\rho_i\\sum_{j=1}^n J_j F_{0j}$$\n",
    "\n",
    "Surface 2 (the floor) has a known heat flux of zero since it is adiabatic:\n",
    "\n",
    "$$0 = J_2 - \\sum_{j=1}^n J_j F_{2j}$$\n",
    "\n",
    "Surfaces 3 and 5 have the same kind of boundary condition as surface 2 (prescribed temperature): their equations are therefore similar. We end up with the following linear system of equations for the radiosities:\n",
    "\n",
    "$$\\begin{bmatrix} 1-\\rho_0F_{00} & -\\rho_0F_{02} & -\\rho_0F_{03} & -\\rho_0F_{05} \\\\ -F_{20} & 1-F_{22} & -F_{23} & -F_{25}  \\\\\n",
    "-\\rho_3F_{30} & -\\rho_3F_{32} & 1-\\rho_3F_{33} & -\\rho_3F_{35} \\\\ -\\rho_5F_{50} & -\\rho_5F_{52} & - \\rho_5F_{53} & 1-\\rho_5F_{55}\n",
    "\\end{bmatrix}\n",
    "\\begin{bmatrix} J_0 \\\\ J_2 \\\\ J_3 \\\\ J_5 \\end{bmatrix} =\n",
    "\\begin{bmatrix} \\varepsilon_0\\sigma T_0^4 \\\\ 0 \\\\ \\varepsilon_3\\sigma T_3^4 \\\\ \\varepsilon_5\\sigma T_5^4 \\end{bmatrix}\n",
    "$$"
   ]
  },
  {
   "cell_type": "code",
   "execution_count": 7,
   "id": "2dfa6529",
   "metadata": {},
   "outputs": [],
   "source": [
    "# Common properties\n",
    "epsilon = 0.85\n",
    "rho = 0.15\n",
    "sigma = 5.67e-8\n",
    "\n",
    "# Temperatures\n",
    "T0 = 60+273.15\n",
    "T3 = 20+273.15\n",
    "T5 = 8+273.15\n",
    "\n",
    "# Areas\n",
    "A0 = 3 * 1\n",
    "A2 = 3 * 4\n",
    "A5 = 2 * 3\n",
    "A3 = 2*(2*4) + 3*1 + 3*4\n",
    "\n",
    "# View factors\n",
    "F25 = 0.1174\n",
    "F20 = 0.081\n",
    "F50 = 0.0477\n",
    "F00 = 0\n",
    "F02 = F20 * A2/A0\n",
    "F05 = F50 * A5/A0\n",
    "F03 = 1 - F00 - F02 - F05\n",
    "F22 = 0\n",
    "F23 = 1 - F20 - F22 - F25\n",
    "F52 = F25 * A2/A5\n",
    "F55 = 0\n",
    "F53 = 1 - F50 - F52 - F55\n",
    "F30 = F03 * A0/A3\n",
    "F32 = F23 * A2/A3\n",
    "F35 = F53 * A5/A3\n",
    "F33 = 1 - F30 - F35 - F32\n",
    "\n",
    "# System matrices\n",
    "A = np.array([[1-rho*F00, -rho*F02, -rho*F03, -rho*F05],\n",
    "              [-F20, 1-F22, -F23, -F25],\n",
    "              [-rho*F30, -rho*F32, 1-rho*F33, -rho*F35],\n",
    "              [-rho*F50, -rho*F52, -rho*F53, 1-rho*F55]])\n",
    "b = epsilon * sigma * np.array([T0**4, 0, T3**4, T5**4])"
   ]
  },
  {
   "cell_type": "markdown",
   "id": "9dfea7a8",
   "metadata": {},
   "source": [
    "Solving this system results in the following values in W/m$^2$ for the radiosities:"
   ]
  },
  {
   "cell_type": "code",
   "execution_count": 8,
   "id": "8db0a506",
   "metadata": {},
   "outputs": [
    {
     "name": "stdout",
     "output_type": "stream",
     "text": [
      "[656.60654455 433.22846091 420.45318261 366.33781622]\n"
     ]
    }
   ],
   "source": [
    "J = np.linalg.solve(A, b)\n",
    "print(J)"
   ]
  },
  {
   "cell_type": "markdown",
   "id": "256eada1",
   "metadata": {},
   "source": [
    "$$ J_0 = 656.61 \\: ; \\: J_2 = 433.23 \\: ; \\: J_3 = 420.45 \\: ; \\: J_5 = 366.34 $$\n",
    "\n",
    "The last step is to use this formula:\n",
    "\n",
    "$$\\frac{\\Phi_i}{S_i} = \\frac{\\varepsilon_i}{1-\\varepsilon_i}(\\sigma T_i^4-J_i) $$\n",
    "\n",
    "in order to find the target values of the exercise: floor temperature $T_2$, radiator heat flux $\\Phi_0$ and net heat flux on the window $\\Phi_5$:"
   ]
  },
  {
   "cell_type": "code",
   "execution_count": 9,
   "id": "c3f035e8",
   "metadata": {},
   "outputs": [
    {
     "name": "stdout",
     "output_type": "stream",
     "text": [
      "Phi0 =  711.530333175192\n",
      "T2 =  22.50381016686191\n",
      "Phi5 =  -410.27710259064247\n"
     ]
    }
   ],
   "source": [
    "Phi0 = A0 * epsilon / rho * (sigma*T0**4-J[0])\n",
    "T2 = (J[1]/sigma)**(1/4)\n",
    "Phi5 = A5 * epsilon / rho * (sigma*T5**4-J[3])\n",
    "print(\"Phi0 = \",Phi0)\n",
    "print(\"T2 = \",T2-273.15)\n",
    "print(\"Phi5 = \",Phi5)"
   ]
  },
  {
   "cell_type": "markdown",
   "id": "ad82eba9-4d80-4363-bf27-6b82ee7dd57d",
   "metadata": {
    "tags": []
   },
   "source": [
    "## Exercise 5: thermal inertia\n",
    "\n",
    "<img src=\"figures/heat_ex5a.png\" alt=\"ex5a\" width=\"250\"/>\n",
    "\n",
    "We represent a building with a single thermal resistance $R$ (from the global heat transfer coefficient) and a single heat capacitance $C$. A heating power $\\Phi$ is imposed on the indoor temperature. The evolution of the indoor temperature is thus driven by the differential equation:\n",
    "\\begin{equation}\n",
    "C \\frac{\\partial T_i}{\\partial t} = \\frac{1}{R} \\left(T_e-T_i\\right) + \\Phi\n",
    "\\end{equation}\n",
    "\n",
    "### Question 1: winter conditions\n",
    "\n",
    "We suppose that the building is initially at the same temperature $T_e$ as the outside. The heating is then turned on at a constant power $\\Phi$.\n",
    "1. Solve the equation above to show that the evolution of the indoor temperature is:\n",
    "\\begin{equation}\n",
    "T_i = T_e + R \\, \\Phi \\left(1-\\mathrm{exp}\\left(-\\frac{t}{RC}\\right)\\right)\n",
    "\\end{equation}\n",
    "2. Draw the evolution of $T_i$. How does this graph change with different values of $R$ and $C$?\n",
    "\n",
    "### Solution"
   ]
  },
  {
   "cell_type": "code",
   "execution_count": 2,
   "id": "d6158cd0-05b0-49bc-a000-b245e1f7965b",
   "metadata": {},
   "outputs": [
    {
     "data": {
      "text/plain": [
       "<matplotlib.legend.Legend at 0x15385a884c0>"
      ]
     },
     "execution_count": 2,
     "metadata": {},
     "output_type": "execute_result"
    },
    {
     "data": {
      "image/png": "[encoded data removed]",
      "text/plain": [
       "<Figure size 432x288 with 1 Axes>"
      ]
     },
     "metadata": {
      "needs_background": "light"
     },
     "output_type": "display_data"
    }
   ],
   "source": [
    "# Suppose an outdoor temperature 0°C and heating power 1000 W\n",
    "Te = 0\n",
    "Phi = 1000\n",
    "t = np.linspace(0, 86400) # 24 heures\n",
    "\n",
    "# L'équation de la température intérieure\n",
    "def T(R, C):\n",
    "  return Te + R*Phi*(1-np.exp(-t/R/C))\n",
    "\n",
    "# Tracer un graphe\n",
    "plt.figure()\n",
    "plt.plot(t/3600, T(0.01, 1e6), label=\"Low R, low C\")\n",
    "plt.plot(t/3600, T(0.02, 1e6), label=\"High R, low C\")\n",
    "plt.plot(t/3600, T(0.01, 2e6), label=\"Low R, high C\")\n",
    "plt.xlabel(\"Time (h)\")\n",
    "plt.ylabel(\"Indoor temperature\")\n",
    "plt.legend()"
   ]
  },
  {
   "cell_type": "markdown",
   "id": "c64a2aec-28a5-4442-8457-058258d8b284",
   "metadata": {
    "tags": []
   },
   "source": [
    "### Question 2: summer conditions\n",
    "\n",
    "<img src=\"figures/heat_ex5b.png\" alt=\"ex5b\" width=\"250\"/>\n",
    "\n",
    "We now suppose that the outdoor temperature is a sine wave (see Fig. \\ref{fig:inertia2}). There is no heating: $\\Phi=0$. The outdoor temperature varies between 10°C and 30°C, with a period of 24h.\n",
    "\\begin{align}\n",
    "T_e & = 20 + 10 \\, \\mathrm{sin}(\\omega \\, t) \\\\\n",
    "\\omega & = \\frac{2 \\pi}{24 \\times 3600}\n",
    "\\end{align}\n",
    "We can show that the complex impedance of the building is:\n",
    "\\begin{equation}\n",
    "Z(j\\omega) = \\frac{T_i}{T_e} = \\frac{1}{1+jRC\\omega}\n",
    "\\end{equation}\n",
    "Draw the evolution of $T_i$. How does this graph change with different values of $R$ and $C$?"
   ]
  },
  {
   "cell_type": "code",
   "execution_count": 3,
   "id": "b1b666b2",
   "metadata": {},
   "outputs": [
    {
     "data": {
      "text/plain": [
       "<matplotlib.legend.Legend at 0x15389315f70>"
      ]
     },
     "execution_count": 3,
     "metadata": {},
     "output_type": "execute_result"
    },
    {
     "data": {
      "image/png": "[encoded data removed]",
      "text/plain": [
       "<Figure size 432x288 with 1 Axes>"
      ]
     },
     "metadata": {
      "needs_background": "light"
     },
     "output_type": "display_data"
    }
   ],
   "source": [
    "t = np.linspace(0, 86400) # 24 heures\n",
    "omega = 2*np.pi / 24 / 3600\n",
    "Te = 20 + 10 * np.sin(omega*t)\n",
    "\n",
    "# L'équation de la température intérieure\n",
    "def T(R, C):\n",
    "  A = 10 / np.sqrt(1+(R*C*omega)**2)\n",
    "  psi = -np.arctan(R*C*omega)\n",
    "  return 20 + A * np.sin(omega*t + psi)\n",
    "\n",
    "# Tracer un graphe\n",
    "plt.figure()\n",
    "plt.plot(t/3600, Te, '-k', label=\"Outdoor T\")\n",
    "plt.plot(t/3600, T(0.01, 1e6), label=\"Low R, low C\")\n",
    "plt.plot(t/3600, T(0.02, 1e6), label=\"High R, low C\")\n",
    "plt.plot(t/3600, T(0.01, 2e6), label=\"Low R, high C\", linestyle='--')\n",
    "plt.plot(t/3600, T(0.02, 2e6), label=\"High R, high C\")\n",
    "plt.xlabel(\"Temps (h)\")\n",
    "plt.ylabel(\"Température interieure\")\n",
    "plt.legend()"
   ]
  }
 ],
 "metadata": {
  "kernelspec": {
   "display_name": "Python 3 (ipykernel)",
   "language": "python",
   "name": "python3"
  },
  "language_info": {
   "codemirror_mode": {
    "name": "ipython",
    "version": 3
   },
   "file_extension": ".py",
   "mimetype": "text/x-python",
   "name": "python",
   "nbconvert_exporter": "python",
   "pygments_lexer": "ipython3",
   "version": "3.9.7"
  }
 },
 "nbformat": 4,
 "nbformat_minor": 5
}
