{
 "cells": [
  {
   "cell_type": "code",
   "execution_count": 1,
   "id": "ac0065c3-4240-4a00-8095-4ead9b9de395",
   "metadata": {},
   "outputs": [],
   "source": [
    "# Run this block first\n",
    "import numpy as np\n",
    "import pandas as pd\n",
    "import matplotlib.pyplot as plt"
   ]
  },
  {
   "cell_type": "markdown",
   "id": "a7c2d476-4af3-4a16-9498-c75f7163cfed",
   "metadata": {},
   "source": [
    "# Heating tutorial 4\n",
    "\n",
    "<img src=\"figures/ecs3.png\" alt=\"heating\" width=\"800\"/>\n",
    "\n",
    "A family of 4 uses 150 litres of domestic hot water (DHW) at 50°C per day. Their single-family house has a heat loss coefficient of 120 W/K. They are located in Chambéry, where the minimal temperature for sizing heating systems is -11°C and the total of heating degree days is 2,700 °C.d annually. We want to propose a solution for a combined solar system producing DHW and space heating.\n",
    "\n",
    "### 1. Estimating the consumption\n",
    "\n",
    "Estimate the total annual needs for space heating and DHW, in kWh. We suppose that cold water comes at 10°C."
   ]
  },
  {
   "cell_type": "code",
   "execution_count": 2,
   "id": "3055c969-2bfa-48e1-a93e-a85de5a56143",
   "metadata": {},
   "outputs": [
    {
     "name": "stdout",
     "output_type": "stream",
     "text": [
      "Consumption for space heating (kWh):  7776.0\n",
      "Consumption for domestic hot water (kWh):  2542.8333333333335\n"
     ]
    }
   ],
   "source": [
    "# Exercise data\n",
    "daily_consumption = 150\n",
    "T_hot = 50\n",
    "T_cold = 10\n",
    "T_min = -11\n",
    "H = 120\n",
    "HDD = 2700\n",
    "\n",
    "# question 1: estimating the yearly consumption (kWh)\n",
    "E_sh = H * HDD * 24 / 1000\n",
    "E_dhw = daily_consumption * 4180 * (T_hot-T_cold) / (3.6e6) * 365\n",
    "\n",
    "print(\"Consumption for space heating (kWh): \", E_sh)\n",
    "print(\"Consumption for domestic hot water (kWh): \", E_dhw)"
   ]
  },
  {
   "cell_type": "markdown",
   "id": "0ae260c8-abb7-435e-95d2-6645651854fa",
   "metadata": {},
   "source": [
    "### 2. Sizing the system\n",
    "\n",
    "Choose the surface of collectors and volume of storage.\n",
    "* The suggested surface of collectors is 1 m$^2$ for each 1,000 kWh of total annual need (1 m$^2$ of collectors receives about 1,500 kWh of solar irradiance annually. With an efficiency of 30\\%, 1 m$^2$ can then produce about 450 kWh a year)\n",
    "* The suggested storage volume depends on the climate zone: in this climate, we suggest a volume of 67 litres per m$^2$ of collectors, for combined heating and DHW production\n",
    "\n",
    "Calculate the energy capacity of the tank, if water is stored at 60°C."
   ]
  },
  {
   "cell_type": "code",
   "execution_count": 3,
   "id": "314c08f0-1b2f-4c46-8d77-04782f5894df",
   "metadata": {},
   "outputs": [
    {
     "name": "stdout",
     "output_type": "stream",
     "text": [
      "Surface of collectors (m2):  10\n",
      "Storage volume (litres):  670\n",
      "Storage capacity (kWh):  38.897222222222226\n"
     ]
    }
   ],
   "source": [
    "# Total consumption\n",
    "E_total = E_sh + E_dhw\n",
    "# surface of collectors and volume of storage\n",
    "surface = round(E_total/1000)\n",
    "volume = 67 * surface\n",
    "# energy capacity of the tank (kWh)\n",
    "capacity = volume * 4180 * (60-T_cold) / (3.6e6)\n",
    "\n",
    "print(\"Surface of collectors (m2): \", surface)\n",
    "print(\"Storage volume (litres): \", volume)\n",
    "print(\"Storage capacity (kWh): \", capacity)"
   ]
  },
  {
   "cell_type": "markdown",
   "id": "74c5bcb7-2787-4f27-93f9-b51dca2a3fb4",
   "metadata": {},
   "source": [
    "### 3. Solar coverage\n",
    "\n",
    "The efficiency of thermal collectors is highest when solar irradiance $E$ is high and the temperature difference $\\Delta T$ between water and outdoor is low. For simplification, we will assume that the efficiency of the supply loop, from collectors to storage, is 40$\\%$.\n",
    "\n",
    "The following table gives the average outdoor temperature and total solar irradiance during a few typical days.\n",
    "\n",
    "| Average temperature (°C) | Solar irradiance (kWh/m2/day) |\n",
    "|---|---|\n",
    "| -1 | 1.2 |\n",
    "| 7 | 2.6 |\n",
    "| 26 | 4.4 |\n",
    "\n",
    "For each of these days, calculate: the space heating need; the solar production; the solar coverage for DHW and space heating, and the energy required from the auxiliary heating system. We will assume a base temperature for heating of 15°C."
   ]
  },
  {
   "cell_type": "code",
   "execution_count": 4,
   "id": "c850f0c9-0011-4599-a535-1e5c9c8d672e",
   "metadata": {},
   "outputs": [
    {
     "name": "stdout",
     "output_type": "stream",
     "text": [
      "Solar coverage (%):  [  9.04863642  34.65896467 252.63157895]\n"
     ]
    }
   ],
   "source": [
    "T_base = 15\n",
    "T_average = np.array([-1, 7, 26])\n",
    "irradiance = np.array([1.2, 2.6, 4.4])\n",
    "\n",
    "# heating and DHW need\n",
    "deltaT = T_base - T_average\n",
    "deltaT[deltaT < 0] = 0\n",
    "heating_needs = H * deltaT * 24 / 1000\n",
    "dhw_needs = daily_consumption * 4180 * (T_hot-T_cold) / (3.6e6)\n",
    "\n",
    "# solar production\n",
    "solar_prod = irradiance * surface * 0.4\n",
    "solar_coverage = solar_prod / (heating_needs + dhw_needs)\n",
    "\n",
    "print(\"Solar coverage (%): \", solar_coverage*100)"
   ]
  },
  {
   "cell_type": "markdown",
   "id": "81a68b00-c06c-46e3-9b7b-a559e9c403aa",
   "metadata": {
    "tags": []
   },
   "source": [
    "# Hydraulic balancing\n",
    "\n",
    "<img src=\"figures/heating_1.png\" alt=\"heating1\" width=\"500\"/>\n",
    "\n",
    "A network of radiators is set up so that each radiator is connected to a common collector through polypropylene pipes. The radiators operate in a lower temperature mode: 45/38/20. The heating power of all rooms are summarised here:\n",
    "\n",
    "<img src=\"figures/heating_2.png\" alt=\"heating2\" width=\"700\"/>\n",
    "\n",
    "1. Estimate the flow rates circulating inside each radiator.\n",
    "2. Choose the diameter of the pipes, so that the speed of water is near 0.3 m/s\n",
    "3. Calculate the pressure loss of each loop. Which is the most penalized loop?\n",
    "\n",
    "### Solution\n",
    "\n",
    "The following block calculates the volumetric flow rates:"
   ]
  },
  {
   "cell_type": "code",
   "execution_count": 5,
   "id": "a8c83a40-bbcc-4982-829f-55ad1e592431",
   "metadata": {},
   "outputs": [
    {
     "name": "stdout",
     "output_type": "stream",
     "text": [
      "Flow rates in kg/s:  [0.02050581 0.01367054 0.02050581 0.02050581 0.03075871]\n",
      "Flow rates in m3/h:  [0.07396885 0.04931257 0.07396885 0.07396885 0.11095328]\n"
     ]
    }
   ],
   "source": [
    "# Temperatures\n",
    "T_in = 45\n",
    "T_out = 38\n",
    "T_room = 20\n",
    "\n",
    "# Properties of the radiators\n",
    "power = np.array([600, 400, 600, 600, 900])\n",
    "length = np.array([7, 6, 16, 20, 20])\n",
    "\n",
    "# Flow rates\n",
    "mdot = power / (4180*(T_in-T_out))   # in kg/s\n",
    "qdot = mdot * 3600 / 998\n",
    "\n",
    "print(\"Flow rates in kg/s: \", mdot)\n",
    "print(\"Flow rates in m3/h: \", qdot)"
   ]
  },
  {
   "cell_type": "markdown",
   "id": "425efc5a-0120-4c40-8c4b-6096591afa42",
   "metadata": {},
   "source": [
    "The flow rates are rather low compared to the values available on the chart (p. 5 on the handout). We will choose the diameters so that the speed of water is close to 0.3 m/s. Then, we can read the pressure loss (in Pa/m) on the left axis."
   ]
  },
  {
   "cell_type": "code",
   "execution_count": 6,
   "id": "ce7b61f2-3480-46c1-ac2f-d8795e7571ef",
   "metadata": {},
   "outputs": [],
   "source": [
    "diameters = np.array([10, 8, 10, 10, 10])\n",
    "# Coefficient of pressure loss in Pa/m\n",
    "dp_coeff = np.array([10, 15, 10, 10, 20]) * 10\n",
    "# Total pressure loss of the loop in Pa\n",
    "dp_pipes = dp_coeff * length"
   ]
  },
  {
   "cell_type": "markdown",
   "id": "9254dfd9-ac4e-4a96-acb8-7d6171ec39f6",
   "metadata": {},
   "source": [
    "Then we add a fully open valve to each of the 5 radiators. The pressure loss $\\Delta p$ caused by a valve with a coefficient $K_v$ is given by the following formula:\n",
    "$$ Q = K_v \\sqrt{\\frac{\\Delta p}{d}} $$\n",
    "where the flow rate $Q$ is in m$^3/h$, the pressure drop $\\Delta p$ in bar, and the density $d$ of water is 1. The coefficient of a fully opened valve is 0.7."
   ]
  },
  {
   "cell_type": "code",
   "execution_count": 7,
   "id": "5bdd00db-4393-423e-982f-65e480f712b9",
   "metadata": {},
   "outputs": [
    {
     "name": "stdout",
     "output_type": "stream",
     "text": [
      "Pressure loss in pipes (Pa):  [ 700  900 1600 2000 4000]\n",
      "Pressure loss in valves (Pa):  [1116.61047099  496.27132044 1116.61047099 1116.61047099 2512.37355973]\n",
      "Total (Pa):  [1816.61047099 1396.27132044 2716.61047099 3116.61047099 6512.37355973]\n"
     ]
    }
   ],
   "source": [
    "K_v = 0.7 * np.ones(5)\n",
    "dp_valve = (qdot/K_v)**2 * 1e5\n",
    "\n",
    "print(\"Pressure loss in pipes (Pa): \", dp_pipes)\n",
    "print(\"Pressure loss in valves (Pa): \", dp_valve)\n",
    "print(\"Total (Pa): \", dp_pipes+dp_valve)"
   ]
  },
  {
   "cell_type": "markdown",
   "id": "a8f7df8d-bf83-4e49-be86-d73487d4b2d8",
   "metadata": {},
   "source": [
    "Now we search the value of $K_v$ with which all radiators will have the same total pressure loss as the most penalized one."
   ]
  },
  {
   "cell_type": "code",
   "execution_count": 8,
   "id": "82c10107-6793-4d08-81ef-e8ec6c7181eb",
   "metadata": {},
   "outputs": [
    {
     "name": "stdout",
     "output_type": "stream",
     "text": [
      "New coefficient K_v:  [0.30681185 0.2081538  0.33373611 0.34821411 0.7       ]\n"
     ]
    }
   ],
   "source": [
    "# Most penalized radiator:\n",
    "dp_max = np.max(dp_pipes+dp_valve)\n",
    "# New value of the valve pressure loss that should be reached\n",
    "dp_valve = dp_max - dp_pipes\n",
    "# New value of K_v\n",
    "K_v = qdot / np.sqrt(dp_valve / 1e5)\n",
    "\n",
    "print(\"New coefficient K_v: \", K_v)"
   ]
  }
 ],
 "metadata": {
  "kernelspec": {
   "display_name": "Python 3 (ipykernel)",
   "language": "python",
   "name": "python3"
  },
  "language_info": {
   "codemirror_mode": {
    "name": "ipython",
    "version": 3
   },
   "file_extension": ".py",
   "mimetype": "text/x-python",
   "name": "python",
   "nbconvert_exporter": "python",
   "pygments_lexer": "ipython3",
   "version": "3.9.7"
  }
 },
 "nbformat": 4,
 "nbformat_minor": 5
}
