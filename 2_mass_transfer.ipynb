{
 "cells": [
  {
   "cell_type": "code",
   "execution_count": 1,
   "id": "69af9e5f",
   "metadata": {},
   "outputs": [],
   "source": [
    "# Run this block first\n",
    "import numpy as np\n",
    "import pandas as pd\n",
    "import matplotlib.pyplot as plt"
   ]
  },
  {
   "cell_type": "markdown",
   "id": "4c4aa2a6",
   "metadata": {},
   "source": [
    "# Air and moisture transfer\n",
    "\n",
    "## Exercise 1\n",
    "\n",
    "The building has two opposite openings: one on the bottom and one on the top. They are separated by a difference of elevation $\\Delta z$. The wind blows in the direction shown on the figure. The indoor temperature is 20°C and the outdoor 0°C. The wind pressure coefficients of the top and bottom openings are 0.6 and -0.4, respectively.\n",
    "\n",
    "<img src=\"figures/air_ex1.png\" alt=\"ex1\" width=\"250\"/>\n",
    "\n",
    "The wind speed is 5 m/s and the elevation $\\Delta z$ is 10 m. Using this equation, calculate which of the two forces is stronger, and show the direction of the air flow inside the building.\n",
    "\n",
    "$$ Q=A^* \\left( \\sqrt{\\left|\\Delta C_p\\right|\\cdot U_\\mathit{wind}^2  } \\pm \\sqrt{2\\cdot g\\cdot H \\left(\\frac{|\\Delta T|}{T_\\mathit{mean}}\\right) } \\right) $$\n",
    "\n",
    "### Solution"
   ]
  },
  {
   "cell_type": "code",
   "execution_count": 2,
   "id": "2ce96a78",
   "metadata": {},
   "outputs": [
    {
     "name": "stdout",
     "output_type": "stream",
     "text": [
      "Air speed from wind:  5.0\n",
      "Air speed from stack effect:  3.7207864979281466\n"
     ]
    }
   ],
   "source": [
    "# Wind force\n",
    "U_wind = 5\n",
    "cp1 = 0.6\n",
    "cp2 = -0.4\n",
    "V_wind = np.sqrt((cp1-cp2)*U_wind**2)\n",
    "\n",
    "# Stack effect\n",
    "H = 10\n",
    "T1 = 20 + 273.15\n",
    "T2 = 0 + 273.15\n",
    "V_stack = np.sqrt(2*9.8*H*(T1-T2)/((T1+T2)/2))\n",
    "\n",
    "print(\"Air speed from wind: \", V_wind)\n",
    "print(\"Air speed from stack effect: \", V_stack)"
   ]
  },
  {
   "cell_type": "markdown",
   "id": "24c3386e",
   "metadata": {},
   "source": [
    "## Exercise 2\n",
    "\n",
    "We are studying a solar chimney shown below. The air is heated inside the chimney, which creates a stack effect that drives it upwards. The pressure drop creates an air flow into the house, which first goes through a ground-coupled heat exchanger. The target is to calculate the indoor temperature as a consequence of this cold air flow.\n",
    "\n",
    "<img src=\"figures/air_ex2.png\" alt=\"ex2\" width=\"250\"/>\n",
    "\n",
    "Inside the chimney, air circulates between a glass collector and a concrete slab. In order to solve the problem, we need at least three equations:\n",
    "* Write the heat balance of the main room of the house (not the chimney) as function of its global heat transfer coefficient $H=100$ W/K and incoming air flow rate $\\dot{m}$.\n",
    "* Formulate the mass flow rate as function of the air temperatures at the inlet $T_s=13$°C and at the outlet of the chimney $T_\\mathrm{out}$, and the difference of elevation $z$ between them.\n",
    "* We will assume that the maximum temperature reached by the air in the chimney is 45°C.\n",
    "\n",
    "The thermal properties of the chimney and convective heat transfer coefficients can be taken from previous exercises.\n",
    "\n",
    "### Solution\n",
    "\n",
    "The heat balance equation of the room is: \n",
    "$$ \\dot{m}c_p(T_s-T_i) + H(T_e-T_i) = 0$$\n",
    "\n",
    "In order to calculate the mass flow rate $\\dot{m}$, we first use the following formula for the volumetric flow rate in presence of stack effect, while no wind is considered:\n",
    "$$ Q=A^* \\sqrt{2\\cdot g\\cdot z \\left(\\frac{|\\Delta T|}{T_\\mathit{mean}}\\right) } $$\n",
    "where A$^*$ is the equivalent surface of the openings, $z$ is the evelation difference between inlet and outlet. The temperature difference $\\Delta T$ and mean $T_\\mathit{mean}$ are formulated relatively to the inlet temperature $T_s$ and the outlet of the chimney $T_\\mathrm{out}$. This means that this outlet temperature is required to calculate the air flow rate."
   ]
  },
  {
   "cell_type": "code",
   "execution_count": 11,
   "id": "cf4daa4c",
   "metadata": {},
   "outputs": [
    {
     "name": "stdout",
     "output_type": "stream",
     "text": [
      "mass flow rate:  0.32803805028666444\n"
     ]
    }
   ],
   "source": [
    "# Calculation of the flow rate\n",
    "A = 0.06 # we assume this value for the equivalent surface of the opening\n",
    "g = 9.8\n",
    "z = 10\n",
    "T_inlet = 13\n",
    "T_outlet = 45\n",
    "Q = A * np.sqrt(2*g*z*(T_outlet-T_inlet) / ((T_inlet+T_outlet)/2+273.15) ) # volumetric flow rate\n",
    "rho = 1.2\n",
    "mdot = rho * Q  # mass flow rate\n",
    "print(\"mass flow rate: \", mdot)"
   ]
  },
  {
   "cell_type": "markdown",
   "id": "90a7d3c5-82c4-4a50-9c36-b45e9f00e2b3",
   "metadata": {},
   "source": [
    "Now we can calculate the indoor temperature from the first heat balance equation."
   ]
  },
  {
   "cell_type": "code",
   "execution_count": 12,
   "id": "8432c024-7eb2-4eab-bed7-fe028ec4a407",
   "metadata": {},
   "outputs": [
    {
     "name": "stdout",
     "output_type": "stream",
     "text": [
      "Indoor temperature:  18.13972998084311\n"
     ]
    }
   ],
   "source": [
    "T_ext = 35\n",
    "H = 100\n",
    "cp = 1000\n",
    "\n",
    "T_indoor = 1/(mdot*cp+H) * (mdot*cp*T_inlet + H*T_ext)\n",
    "print(\"Indoor temperature: \", T_indoor)"
   ]
  },
  {
   "cell_type": "markdown",
   "id": "0ff78faa",
   "metadata": {},
   "source": [
    "## Exercise 3: condensation on a window\n",
    "\n",
    "A window separates a room at $T_i=20$°C from the outside at $T_e=8$°C. The window has a thickness of 4 mm and conductivity 1.1 W.m$^{-1}$.K$^{-1}$. The indoor and outdoor superficial resistances are 0.13 and 0.04 m$^2$.K.W$^{-1}$, respectively.\n",
    "\n",
    "* Calculate the temperature at the inside surface of the window.\n",
    "* Calculate the saturation vapour pressure at the temperatures of the room and window surface.\n",
    "* What is the relative humidity at which condensation appears at the window?\n",
    "\n",
    "### Solution\n",
    "\n",
    "The surface temperature $T_s$ is so that:\n",
    "$$ \\frac{1}{0.13} \\cdot (T_i-T_s) = \\frac{1}{0.13+\\frac{0.04}{1.1}+0.04} \\cdot (T_i-T_e) $$"
   ]
  },
  {
   "cell_type": "code",
   "execution_count": 5,
   "id": "914714d7-740d-455b-ae9b-8bf161971641",
   "metadata": {},
   "outputs": [
    {
     "name": "stdout",
     "output_type": "stream",
     "text": [
      "Surface temperature:  12.440528634361232\n"
     ]
    }
   ],
   "source": [
    "Ti = 20\n",
    "Te = 8\n",
    "\n",
    "Rsi = 0.13  # indoor superficial resistance\n",
    "Rwin = 0.04 / 1.1  # thermal resistance of the window\n",
    "Rse = 0.04  # outdoor superficial resistance\n",
    "\n",
    "Tsurf = Ti - Rsi/(Rse+Rwin+Rsi) * (Ti-Te)\n",
    "\n",
    "print(\"Surface temperature: \", Tsurf)"
   ]
  },
  {
   "cell_type": "markdown",
   "id": "1667366c-2ac6-40a8-85c0-97c76ecbd642",
   "metadata": {},
   "source": [
    "The saturation vapour pressure is a function of temperature:\n",
    "$$ p_\\mathit{sat}(T) = \\mathrm{exp} \\left(23.5771-\\frac{4042.9}{T+273.15-37.58}\\right) $$"
   ]
  },
  {
   "cell_type": "code",
   "execution_count": 6,
   "id": "483b9922-6b2a-4427-b997-3cbf08678d38",
   "metadata": {},
   "outputs": [
    {
     "name": "stdout",
     "output_type": "stream",
     "text": [
      "Saturation pressure at room temperature:  2340.1039900862156\n",
      "Saturation pressure at surface temperature:  1444.8718769780508\n"
     ]
    }
   ],
   "source": [
    "def psat(T):\n",
    "    return np.exp(23.5771 - 4042.9/(T+273.15-37.58))\n",
    "\n",
    "print(\"Saturation pressure at room temperature: \", psat(Ti))\n",
    "print(\"Saturation pressure at surface temperature: \", psat(Tsurf))"
   ]
  },
  {
   "cell_type": "markdown",
   "id": "e5781546-4555-47c9-ab77-9ee790600209",
   "metadata": {},
   "source": [
    "Condensation occurs at the window if its vapour pressure $p_v=\\mathrm{RH} p_\\mathit{sat}$ reaches the saturation pressure. Since we assume that this vapour pressure is the same in the entire room (indoor and surface), the indoor relative humidity where this occurs is the ratio between the two previous values:"
   ]
  },
  {
   "cell_type": "code",
   "execution_count": 7,
   "id": "e9b94e78-9a02-406f-9cda-b234c2182e03",
   "metadata": {},
   "outputs": [
    {
     "name": "stdout",
     "output_type": "stream",
     "text": [
      "RH for condensation:  0.6174391749679542\n"
     ]
    }
   ],
   "source": [
    "print(\"RH for condensation: \", psat(Tsurf)/psat(Ti))"
   ]
  },
  {
   "cell_type": "markdown",
   "id": "27d51bc1-edc1-4c7f-ab32-98bc11af4d78",
   "metadata": {},
   "source": [
    "## Exercise 4: condensation in a wall\n",
    "\n",
    "<img src=\"figures/air_ex4.png\" alt=\"ex4\" width=\"250\"/>\n",
    "\n",
    "A wall has three layers: concrete, insulation and gypsum. The thickness, thermal conductivity and vapour permeability of each layer is given in the following table, along with the surface transfer coefficient for heat $h_t$ and moisture $h_m$ on each side of the wall.\n",
    "\n",
    "| Material | $e$ (m) | $\\lambda$ (W.m$^{-1}.$K$^{-1}$) | $\\delta_\\mathrm{vap}$ (s) |\n",
    "|----------|---------|---------------------------------|---------------------------|\n",
    "| Concrete | 0.18 | 2 | $2.2\\times 10^{-12}$ |\n",
    "| Insulation | 0.15 | 0.04 | $1.5\\times 10^{-10}$ |\n",
    "| Gypsum | 0.013 | 0.35 | $9\\times 10^{-12}$ |\n",
    "\n",
    "* Outside transfer coefficients: $h_t=16$ (W.m$^{-2}.$K$^{-1}$) and $h_m=4\\times10^{-8}$ (s.m$^{-1}$)\n",
    "* Inside transfer coefficients: $h_t=4.1$ (W.m$^{-2}.$K$^{-1}$) and $h_m=1\\times10^{-8}$ (s.m$^{-1}$)\n",
    "\n",
    "Indoor conditions: $T_i=20$°C and RH$_i$=60$\\%$. Outdoor conditions: $T_e=6$°C and RH$_e$=80$\\%$.\n",
    "\n",
    "1. Calculate the vapour pressure $p_v$ of air inside and outside.\n",
    "2. Calculate the temperature, saturation pressure and vapour pressure at each interface of the wall\n",
    "3. Is there condensation somewhere?\n",
    "\n",
    "### Solution\n",
    "\n",
    "We can define the *moisture transfer resistance* of a wall component as $R=e/\\delta_\\mathrm{vap}$. The moisture exchange between the surface of a wall and the ambient air can also be formulated in the same way as heat transfer, with a surface moisture transfer coefficient $h_m$:\n",
    "$$ g_\\mathrm{vap} = h_m (p_{v,\\mathrm{surf}}-p_{v,\\mathrm{air}}) $$"
   ]
  },
  {
   "cell_type": "code",
   "execution_count": 8,
   "id": "adf64ae9-3885-4e64-b10c-3b126a58d583",
   "metadata": {},
   "outputs": [
    {
     "name": "stdout",
     "output_type": "stream",
     "text": [
      "Distribution of temperatures:  [ 6.          6.20915275  6.51033271 19.05949766 19.18379415 20.        ]\n",
      "Distribution of vapour pressures:  [ 748.46219513  748.65641798 1384.29482435 1392.06373821 1403.28550267\n",
      " 1404.06239405]\n",
      "Distribution of saturation pressures:  [ 935.57774391  949.22112966  969.17528763 2207.29014141 2224.45598692\n",
      " 2340.10399009]\n"
     ]
    }
   ],
   "source": [
    "# Conditions\n",
    "Ti = 20\n",
    "RHi = 0.6\n",
    "Te = 6\n",
    "RHe = 0.8\n",
    "\n",
    "# Saturation vapour pressure\n",
    "def psat(T):\n",
    "    return np.exp(23.5771 - 4042.9/(T+273.15-37.58))\n",
    "\n",
    "# Vapour pressure of the inside and outside\n",
    "pvi = RHi * psat(Ti)\n",
    "pve = RHe * psat(Te)\n",
    "\n",
    "# Array of thermal resistances\n",
    "R_th = np.array([1/16, 0.18/2, 0.15/0.04, 0.013/0.35, 1/4.1])\n",
    "# Array of moisture transfer resistances\n",
    "R_m = np.array([1/(4e-8), 0.18/(2.2e-12), 0.15/(1.5e-10), 0.013/(9e-12), 1/(1e-8)])\n",
    "\n",
    "# Calculation of the total heat and moisture flux across the wall\n",
    "Phi_heat = (Ti - Te) / np.sum(R_th)\n",
    "Phi_moist = (pvi - pve) / np.sum(R_m)\n",
    "\n",
    "# Calculation of the 4 temperatures and vapour pressures at the interfaces\n",
    "T = np.concatenate((np.array([Te]), np.zeros(4), np.array([Ti])))\n",
    "pv = np.concatenate((np.array([pve]), np.zeros(4), np.array([pvi])))\n",
    "\n",
    "for i in range(4):\n",
    "    T[i+1] = T[i] + R_th[i] * Phi_heat\n",
    "    pv[i+1] = pv[i] + R_m[i] * Phi_moist\n",
    "\n",
    "print(\"Distribution of temperatures: \", T)\n",
    "print(\"Distribution of vapour pressures: \", pv)\n",
    "print(\"Distribution of saturation pressures: \", psat(T))"
   ]
  },
  {
   "cell_type": "markdown",
   "id": "f9c31b32-c762-4944-8374-c50de689cb5f",
   "metadata": {},
   "source": [
    "We can see that there is a point where the vapour pressure exceeds the saturation pressure: this generates condensation."
   ]
  }
 ],
 "metadata": {
  "kernelspec": {
   "display_name": "Python 3 (ipykernel)",
   "language": "python",
   "name": "python3"
  },
  "language_info": {
   "codemirror_mode": {
    "name": "ipython",
    "version": 3
   },
   "file_extension": ".py",
   "mimetype": "text/x-python",
   "name": "python",
   "nbconvert_exporter": "python",
   "pygments_lexer": "ipython3",
   "version": "3.9.7"
  }
 },
 "nbformat": 4,
 "nbformat_minor": 5
}
